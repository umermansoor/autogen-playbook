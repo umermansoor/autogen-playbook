{
 "cells": [
  {
   "cell_type": "code",
   "execution_count": 1,
   "metadata": {},
   "outputs": [
    {
     "name": "stdout",
     "output_type": "stream",
     "text": [
      "Requirement already satisfied: pyautogen in /Users/umermansoor/Documents/GitHub/autogen-beginner-course/.conda/lib/python3.11/site-packages (0.2.32)\n",
      "Requirement already satisfied: python-dotenv in /Users/umermansoor/Documents/GitHub/autogen-beginner-course/.conda/lib/python3.11/site-packages (1.0.1)\n",
      "Requirement already satisfied: diskcache in /Users/umermansoor/Documents/GitHub/autogen-beginner-course/.conda/lib/python3.11/site-packages (from pyautogen) (5.6.3)\n",
      "Requirement already satisfied: docker in /Users/umermansoor/Documents/GitHub/autogen-beginner-course/.conda/lib/python3.11/site-packages (from pyautogen) (7.1.0)\n",
      "Requirement already satisfied: flaml in /Users/umermansoor/Documents/GitHub/autogen-beginner-course/.conda/lib/python3.11/site-packages (from pyautogen) (2.1.2)\n",
      "Requirement already satisfied: numpy<2,>=1.17.0 in /Users/umermansoor/Documents/GitHub/autogen-beginner-course/.conda/lib/python3.11/site-packages (from pyautogen) (1.26.4)\n",
      "Requirement already satisfied: openai>=1.3 in /Users/umermansoor/Documents/GitHub/autogen-beginner-course/.conda/lib/python3.11/site-packages (from pyautogen) (1.36.1)\n",
      "Requirement already satisfied: packaging in /Users/umermansoor/Documents/GitHub/autogen-beginner-course/.conda/lib/python3.11/site-packages (from pyautogen) (24.1)\n",
      "Requirement already satisfied: pydantic!=2.6.0,<3,>=1.10 in /Users/umermansoor/Documents/GitHub/autogen-beginner-course/.conda/lib/python3.11/site-packages (from pyautogen) (2.8.2)\n",
      "Requirement already satisfied: termcolor in /Users/umermansoor/Documents/GitHub/autogen-beginner-course/.conda/lib/python3.11/site-packages (from pyautogen) (2.4.0)\n",
      "Requirement already satisfied: tiktoken in /Users/umermansoor/Documents/GitHub/autogen-beginner-course/.conda/lib/python3.11/site-packages (from pyautogen) (0.7.0)\n",
      "Requirement already satisfied: anyio<5,>=3.5.0 in /Users/umermansoor/Documents/GitHub/autogen-beginner-course/.conda/lib/python3.11/site-packages (from openai>=1.3->pyautogen) (4.4.0)\n",
      "Requirement already satisfied: distro<2,>=1.7.0 in /Users/umermansoor/Documents/GitHub/autogen-beginner-course/.conda/lib/python3.11/site-packages (from openai>=1.3->pyautogen) (1.9.0)\n",
      "Requirement already satisfied: httpx<1,>=0.23.0 in /Users/umermansoor/Documents/GitHub/autogen-beginner-course/.conda/lib/python3.11/site-packages (from openai>=1.3->pyautogen) (0.27.0)\n",
      "Requirement already satisfied: sniffio in /Users/umermansoor/Documents/GitHub/autogen-beginner-course/.conda/lib/python3.11/site-packages (from openai>=1.3->pyautogen) (1.3.1)\n",
      "Requirement already satisfied: tqdm>4 in /Users/umermansoor/Documents/GitHub/autogen-beginner-course/.conda/lib/python3.11/site-packages (from openai>=1.3->pyautogen) (4.66.4)\n",
      "Requirement already satisfied: typing-extensions<5,>=4.7 in /Users/umermansoor/Documents/GitHub/autogen-beginner-course/.conda/lib/python3.11/site-packages (from openai>=1.3->pyautogen) (4.12.2)\n",
      "Requirement already satisfied: annotated-types>=0.4.0 in /Users/umermansoor/Documents/GitHub/autogen-beginner-course/.conda/lib/python3.11/site-packages (from pydantic!=2.6.0,<3,>=1.10->pyautogen) (0.7.0)\n",
      "Requirement already satisfied: pydantic-core==2.20.1 in /Users/umermansoor/Documents/GitHub/autogen-beginner-course/.conda/lib/python3.11/site-packages (from pydantic!=2.6.0,<3,>=1.10->pyautogen) (2.20.1)\n",
      "Requirement already satisfied: requests>=2.26.0 in /Users/umermansoor/Documents/GitHub/autogen-beginner-course/.conda/lib/python3.11/site-packages (from docker->pyautogen) (2.32.3)\n",
      "Requirement already satisfied: urllib3>=1.26.0 in /Users/umermansoor/Documents/GitHub/autogen-beginner-course/.conda/lib/python3.11/site-packages (from docker->pyautogen) (2.2.2)\n",
      "Requirement already satisfied: regex>=2022.1.18 in /Users/umermansoor/Documents/GitHub/autogen-beginner-course/.conda/lib/python3.11/site-packages (from tiktoken->pyautogen) (2024.7.24)\n",
      "Requirement already satisfied: idna>=2.8 in /Users/umermansoor/Documents/GitHub/autogen-beginner-course/.conda/lib/python3.11/site-packages (from anyio<5,>=3.5.0->openai>=1.3->pyautogen) (3.7)\n",
      "Requirement already satisfied: certifi in /Users/umermansoor/Documents/GitHub/autogen-beginner-course/.conda/lib/python3.11/site-packages (from httpx<1,>=0.23.0->openai>=1.3->pyautogen) (2024.7.4)\n",
      "Requirement already satisfied: httpcore==1.* in /Users/umermansoor/Documents/GitHub/autogen-beginner-course/.conda/lib/python3.11/site-packages (from httpx<1,>=0.23.0->openai>=1.3->pyautogen) (1.0.5)\n",
      "Requirement already satisfied: h11<0.15,>=0.13 in /Users/umermansoor/Documents/GitHub/autogen-beginner-course/.conda/lib/python3.11/site-packages (from httpcore==1.*->httpx<1,>=0.23.0->openai>=1.3->pyautogen) (0.14.0)\n",
      "Requirement already satisfied: charset-normalizer<4,>=2 in /Users/umermansoor/Documents/GitHub/autogen-beginner-course/.conda/lib/python3.11/site-packages (from requests>=2.26.0->docker->pyautogen) (3.3.2)\n",
      "Note: you may need to restart the kernel to use updated packages.\n"
     ]
    }
   ],
   "source": [
    "%pip install pyautogen python-dotenv"
   ]
  },
  {
   "cell_type": "markdown",
   "metadata": {},
   "source": [
    "## Initialize AutoGen LLM Configuration\n",
    "\n",
    "Ceate a .env file in the root directory and add your **OpenAI API key** to it. This key will be loaded and utilized in the subsequent steps. For the correct format, refer to the `.env.sample` file. (You can also paste your key into this sample file and rename it to `.env`.)"
   ]
  },
  {
   "cell_type": "code",
   "execution_count": 12,
   "metadata": {},
   "outputs": [],
   "source": [
    "import os\n",
    "from autogen import filter_config\n",
    "\n",
    "from dotenv import load_dotenv\n",
    "load_dotenv()\n",
    "\n",
    "# This is a list of models that we want to use in the LLM. Each model is a dictionary with some properties.\n",
    "config_list = [\n",
    "    # Model that outputs text\n",
    "    {\n",
    "        \"model\": \"gpt-4o\",\n",
    "        \"api_key\": os.environ[\"OPENAI_API_KEY\"],\n",
    "        \"response_format\": {\"type\": \"text\"},\n",
    "        \"tags\": [\"gpt-4o\", \"text\"]\n",
    "    }\n",
    "]\n",
    "\n",
    "llm_config = {\n",
    "    \"timeout\": 600,\n",
    "    \"cache_seed\": None,  # Disable caching to make sure we get fresh results. Be careful with this in production. Set this to 41 for disk caching.\n",
    "    \"config_list\": config_list,\n",
    "    \"temperature\": 1,\n",
    "}"
   ]
  },
  {
   "cell_type": "markdown",
   "metadata": {},
   "source": [
    "## Programmar and Peer Review\n"
   ]
  },
  {
   "cell_type": "code",
   "execution_count": 142,
   "metadata": {},
   "outputs": [],
   "source": [
    "from autogen.agentchat import AssistantAgent\n",
    "import pprint\n",
    "\n",
    "coding_task = \"Write a JSON formatting function that removse newlines outside of quotes, and handle JSON escape sequences.\"\n",
    "\n",
    "programmar = AssistantAgent(\n",
    "    name=\"Programmar\",\n",
    "    is_termination_msg=lambda x: x.get(\"content\", \"\").find(\"LGTM\") >= 0,\n",
    "    llm_config=llm_config,\n",
    "    system_message=\"\"\"\n",
    "You are a software engineer who writes code in Typescript. \n",
    "You are given a task. You will write code to complete the task.\n",
    "Keep your messages short.\n",
    "\"\"\",\n",
    ")"
   ]
  },
  {
   "cell_type": "code",
   "execution_count": 143,
   "metadata": {},
   "outputs": [],
   "source": [
    "peer_reviewer = AssistantAgent(\n",
    "    name=\"PeerReviewer\",\n",
    "    is_termination_msg=lambda x: x.get(\"content\", \"\").find(\"LGTM\") >= 0,\n",
    "    llm_config=llm_config,\n",
    "    system_message=\"\"\"\n",
    "You are an expert software engineer who reviews code and provide comments on code quality.\n",
    "When you are done reviewing the code, write \"LGTM\" (exact phrase) to indicate that the code is good to merge.\n",
    "Keep your messages short.\n",
    "\"\"\",\n",
    ")"
   ]
  },
  {
   "cell_type": "code",
   "execution_count": 144,
   "metadata": {},
   "outputs": [
    {
     "name": "stdout",
     "output_type": "stream",
     "text": [
      "\u001b[33mPeerReviewer\u001b[0m (to Programmar):\n",
      "\n",
      "Write a JSON formatting function that removse newlines outside of quotes, and handle JSON escape sequences.\n",
      "\n",
      "--------------------------------------------------------------------------------\n",
      "\u001b[33mProgrammar\u001b[0m (to PeerReviewer):\n",
      "\n",
      "Sure, here is a function in TypeScript that removes newlines outside of quotes and handles JSON escape sequences:\n",
      "\n",
      "```typescript\n",
      "function removeNewlinesFromJson(jsonString: string): string {\n",
      "    let result = '';\n",
      "    let inQuotes = false;\n",
      "\n",
      "    for (let i = 0; i < jsonString.length; i++) {\n",
      "        let char = jsonString[i];\n",
      "\n",
      "        if (char === '\"' && (i === 0 || jsonString[i - 1] !== '\\\\')) {\n",
      "            inQuotes = !inQuotes;\n",
      "        }\n",
      "\n",
      "        if (char === '\\n' && !inQuotes) {\n",
      "            // Skip newlines outside quotes\n",
      "            continue;\n",
      "        }\n",
      "\n",
      "        result += char;\n",
      "    }\n",
      "\n",
      "    return result;\n",
      "}\n",
      "\n",
      "// Example usage\n",
      "const jsonString = `\n",
      "{\n",
      "    \"name\": \"John\",\n",
      "    \"bio\": \"Loves coding.\\nEnjoys coffee.\"\n",
      "}\n",
      "`;\n",
      "console.log(removeNewlinesFromJson(jsonString));\n",
      "```\n",
      "\n",
      "This function iterates through the JSON string and checks if it’s inside quotes or not. Newlines are removed only when they are outside of quotes.\n",
      "\n",
      "--------------------------------------------------------------------------------\n",
      "\u001b[33mPeerReviewer\u001b[0m (to Programmar):\n",
      "\n",
      "The function looks well implemented and achieves the desired behavior of removing newlines outside of quotes while correctly handling JSON escape sequences.\n",
      "\n",
      "A few minor improvements for better readability and functionality:\n",
      "1. Add comments to elaborate on specific parts of the code.\n",
      "2. Consider renaming the function for better clarity (e.g., `removeNewlinesOutsideQuotes`).\n",
      "\n",
      "Here's an updated version:\n",
      "\n",
      "```typescript\n",
      "function removeNewlinesOutsideQuotes(jsonString: string): string {\n",
      "    let result = '';\n",
      "    let inQuotes = false;\n",
      "\n",
      "    for (let i = 0; i < jsonString.length; i++) {\n",
      "        const char = jsonString[i];\n",
      "\n",
      "        // Toggle inQuotes when encountering a non-escaped double quote\n",
      "        if (char === '\"' && (i === 0 || jsonString[i - 1] !== '\\\\')) {\n",
      "            inQuotes = !inQuotes;\n",
      "        }\n",
      "\n",
      "        // Skip newlines outside quotes\n",
      "        if (char === '\\n' && !inQuotes) {\n",
      "            continue;\n",
      "        }\n",
      "\n",
      "        result += char;\n",
      "    }\n",
      "\n",
      "    return result;\n",
      "}\n",
      "\n",
      "// Example usage\n",
      "const jsonString = `\n",
      "{\n",
      "    \"name\": \"John\",\n",
      "    \"bio\": \"Loves coding.\\nEnjoys coffee.\"\n",
      "}\n",
      "`;\n",
      "console.log(removeNewlinesOutsideQuotes(jsonString));\n",
      "```\n",
      "\n",
      "Overall, this is a well-written function. LGTM.\n",
      "\n",
      "--------------------------------------------------------------------------------\n"
     ]
    }
   ],
   "source": [
    "res = peer_reviewer.initiate_chat(\n",
    "    recipient=programmar,\n",
    "    message=coding_task,\n",
    "    max_turns=10,\n",
    ")"
   ]
  }
 ],
 "metadata": {
  "kernelspec": {
   "display_name": "Python 3",
   "language": "python",
   "name": "python3"
  },
  "language_info": {
   "codemirror_mode": {
    "name": "ipython",
    "version": 3
   },
   "file_extension": ".py",
   "mimetype": "text/x-python",
   "name": "python",
   "nbconvert_exporter": "python",
   "pygments_lexer": "ipython3",
   "version": "3.11.9"
  }
 },
 "nbformat": 4,
 "nbformat_minor": 2
}
