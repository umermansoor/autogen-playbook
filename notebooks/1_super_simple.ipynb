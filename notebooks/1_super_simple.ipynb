{
 "cells": [
  {
   "cell_type": "code",
   "execution_count": 2,
   "metadata": {},
   "outputs": [
    {
     "name": "stdout",
     "output_type": "stream",
     "text": [
      "Requirement already satisfied: pyautogen in /Users/umermansoor/Documents/GitHub/autogen-beginner-course/.conda/lib/python3.11/site-packages (0.2.32)\n",
      "Requirement already satisfied: python-dotenv in /Users/umermansoor/Documents/GitHub/autogen-beginner-course/.conda/lib/python3.11/site-packages (1.0.1)\n",
      "Requirement already satisfied: diskcache in /Users/umermansoor/Documents/GitHub/autogen-beginner-course/.conda/lib/python3.11/site-packages (from pyautogen) (5.6.3)\n",
      "Requirement already satisfied: docker in /Users/umermansoor/Documents/GitHub/autogen-beginner-course/.conda/lib/python3.11/site-packages (from pyautogen) (7.1.0)\n",
      "Requirement already satisfied: flaml in /Users/umermansoor/Documents/GitHub/autogen-beginner-course/.conda/lib/python3.11/site-packages (from pyautogen) (2.1.2)\n",
      "Requirement already satisfied: numpy<2,>=1.17.0 in /Users/umermansoor/Documents/GitHub/autogen-beginner-course/.conda/lib/python3.11/site-packages (from pyautogen) (1.26.4)\n",
      "Requirement already satisfied: openai>=1.3 in /Users/umermansoor/Documents/GitHub/autogen-beginner-course/.conda/lib/python3.11/site-packages (from pyautogen) (1.36.1)\n",
      "Requirement already satisfied: packaging in /Users/umermansoor/Documents/GitHub/autogen-beginner-course/.conda/lib/python3.11/site-packages (from pyautogen) (24.1)\n",
      "Requirement already satisfied: pydantic!=2.6.0,<3,>=1.10 in /Users/umermansoor/Documents/GitHub/autogen-beginner-course/.conda/lib/python3.11/site-packages (from pyautogen) (2.8.2)\n",
      "Requirement already satisfied: termcolor in /Users/umermansoor/Documents/GitHub/autogen-beginner-course/.conda/lib/python3.11/site-packages (from pyautogen) (2.4.0)\n",
      "Requirement already satisfied: tiktoken in /Users/umermansoor/Documents/GitHub/autogen-beginner-course/.conda/lib/python3.11/site-packages (from pyautogen) (0.7.0)\n",
      "Requirement already satisfied: anyio<5,>=3.5.0 in /Users/umermansoor/Documents/GitHub/autogen-beginner-course/.conda/lib/python3.11/site-packages (from openai>=1.3->pyautogen) (4.4.0)\n",
      "Requirement already satisfied: distro<2,>=1.7.0 in /Users/umermansoor/Documents/GitHub/autogen-beginner-course/.conda/lib/python3.11/site-packages (from openai>=1.3->pyautogen) (1.9.0)\n",
      "Requirement already satisfied: httpx<1,>=0.23.0 in /Users/umermansoor/Documents/GitHub/autogen-beginner-course/.conda/lib/python3.11/site-packages (from openai>=1.3->pyautogen) (0.27.0)\n",
      "Requirement already satisfied: sniffio in /Users/umermansoor/Documents/GitHub/autogen-beginner-course/.conda/lib/python3.11/site-packages (from openai>=1.3->pyautogen) (1.3.1)\n",
      "Requirement already satisfied: tqdm>4 in /Users/umermansoor/Documents/GitHub/autogen-beginner-course/.conda/lib/python3.11/site-packages (from openai>=1.3->pyautogen) (4.66.4)\n",
      "Requirement already satisfied: typing-extensions<5,>=4.7 in /Users/umermansoor/Documents/GitHub/autogen-beginner-course/.conda/lib/python3.11/site-packages (from openai>=1.3->pyautogen) (4.12.2)\n",
      "Requirement already satisfied: annotated-types>=0.4.0 in /Users/umermansoor/Documents/GitHub/autogen-beginner-course/.conda/lib/python3.11/site-packages (from pydantic!=2.6.0,<3,>=1.10->pyautogen) (0.7.0)\n",
      "Requirement already satisfied: pydantic-core==2.20.1 in /Users/umermansoor/Documents/GitHub/autogen-beginner-course/.conda/lib/python3.11/site-packages (from pydantic!=2.6.0,<3,>=1.10->pyautogen) (2.20.1)\n",
      "Requirement already satisfied: requests>=2.26.0 in /Users/umermansoor/Documents/GitHub/autogen-beginner-course/.conda/lib/python3.11/site-packages (from docker->pyautogen) (2.32.3)\n",
      "Requirement already satisfied: urllib3>=1.26.0 in /Users/umermansoor/Documents/GitHub/autogen-beginner-course/.conda/lib/python3.11/site-packages (from docker->pyautogen) (2.2.2)\n",
      "Requirement already satisfied: regex>=2022.1.18 in /Users/umermansoor/Documents/GitHub/autogen-beginner-course/.conda/lib/python3.11/site-packages (from tiktoken->pyautogen) (2024.7.24)\n",
      "Requirement already satisfied: idna>=2.8 in /Users/umermansoor/Documents/GitHub/autogen-beginner-course/.conda/lib/python3.11/site-packages (from anyio<5,>=3.5.0->openai>=1.3->pyautogen) (3.7)\n",
      "Requirement already satisfied: certifi in /Users/umermansoor/Documents/GitHub/autogen-beginner-course/.conda/lib/python3.11/site-packages (from httpx<1,>=0.23.0->openai>=1.3->pyautogen) (2024.7.4)\n",
      "Requirement already satisfied: httpcore==1.* in /Users/umermansoor/Documents/GitHub/autogen-beginner-course/.conda/lib/python3.11/site-packages (from httpx<1,>=0.23.0->openai>=1.3->pyautogen) (1.0.5)\n",
      "Requirement already satisfied: h11<0.15,>=0.13 in /Users/umermansoor/Documents/GitHub/autogen-beginner-course/.conda/lib/python3.11/site-packages (from httpcore==1.*->httpx<1,>=0.23.0->openai>=1.3->pyautogen) (0.14.0)\n",
      "Requirement already satisfied: charset-normalizer<4,>=2 in /Users/umermansoor/Documents/GitHub/autogen-beginner-course/.conda/lib/python3.11/site-packages (from requests>=2.26.0->docker->pyautogen) (3.3.2)\n",
      "Note: you may need to restart the kernel to use updated packages.\n"
     ]
    }
   ],
   "source": [
    "%pip install pyautogen python-dotenv"
   ]
  },
  {
   "cell_type": "markdown",
   "metadata": {},
   "source": [
    "## Initialize AutoGen LLM Configuration\n",
    "\n",
    "Ceate a .env file in the root directory and add your **OpenAI API key** to it. This key will be loaded and utilized in the subsequent steps. For the correct format, refer to the `.env.sample` file. (You can also paste your key into this sample file and rename it to `.env`.)"
   ]
  },
  {
   "cell_type": "code",
   "execution_count": 1,
   "metadata": {},
   "outputs": [],
   "source": [
    "import os\n",
    "from autogen import filter_config\n",
    "\n",
    "from dotenv import load_dotenv\n",
    "load_dotenv()\n",
    "\n",
    "# This is a list of models that we want to use in the LLM. Each model is a dictionary with some properties.\n",
    "config_list = [\n",
    "    # Model that outputs text\n",
    "    {\n",
    "        \"model\": \"gpt-4o\",\n",
    "        \"api_key\": os.environ[\"OPENAI_API_KEY\"],\n",
    "        \"response_format\": {\"type\": \"text\"},\n",
    "        \"tags\": [\"gpt-4o\", \"text\"]\n",
    "    },\n",
    "    # Model that outputs JSON only: https://platform.openai.com/docs/guides/json-mode\n",
    "    {\n",
    "        \"model\": \"gpt-4o\",\n",
    "        \"api_key\": os.environ[\"OPENAI_API_KEY\"],\n",
    "        \"response_format\": {\"type\": \"json_object\"},\n",
    "        \"tags\": [\"gpt-4o\", \"json\"]\n",
    "    }\n",
    "]\n",
    "\n",
    "llm_config = {\n",
    "    \"timeout\": 600,\n",
    "    \"cache_seed\": None,  # Disable caching to make sure we get fresh results. Be careful with this in production. Set this to 41 for disk caching.\n",
    "    \"config_list\": filter_config(config_list, {\"tags\": [\"text\"]}), # Only use models that have the \"text\" tag\n",
    "    \"temperature\": 1,\n",
    "}"
   ]
  },
  {
   "cell_type": "markdown",
   "metadata": {},
   "source": [
    "## Get LLM Response"
   ]
  },
  {
   "cell_type": "code",
   "execution_count": 3,
   "metadata": {},
   "outputs": [
    {
     "name": "stdout",
     "output_type": "stream",
     "text": [
      "OpenAI was founded by Elon Musk, Sam Altman, Greg Brockman, Ilya Sutskever, John Schulman, and Wojciech Zaremba. The organization was officially announced in December 2015. \n",
      "\n",
      "The team brought together a group of investors and engineers with a shared goal of advancing artificial intelligence technology while ensuring it benefits humanity. \n",
      "\n",
      "TERMINATE\n"
     ]
    }
   ],
   "source": [
    "from autogen.agentchat import AssistantAgent\n",
    "\n",
    "assistant = AssistantAgent(\"assistant\", llm_config=llm_config)\n",
    "\n",
    "reply = assistant.generate_reply(\n",
    "    messages=[{\n",
    "        \"content\": \"Who founded OpenAI?\",\n",
    "        \"role\": \"user\"\n",
    "    }]\n",
    ")\n",
    "\n",
    "print(reply)"
   ]
  },
  {
   "cell_type": "markdown",
   "metadata": {},
   "source": [
    "## Get LLM Response but in JSON"
   ]
  },
  {
   "cell_type": "code",
   "execution_count": 4,
   "metadata": {},
   "outputs": [],
   "source": [
    "# First, create an LLM config that uses the model which outputs JSON mode\n",
    "\n",
    "llm_config_json = {\n",
    "    \"timeout\": 600,\n",
    "    \"cache_seed\": None,  # Disable caching to make sure we get fresh results. Be careful with this in production. Set this to 41 for disk caching.\n",
    "    \"config_list\": filter_config(config_list, {\"tags\": [\"json\"]}), # Only use models that have the \"json\" tag\n",
    "    \"temperature\": 1,\n",
    "}"
   ]
  },
  {
   "cell_type": "code",
   "execution_count": 8,
   "metadata": {},
   "outputs": [
    {
     "name": "stdout",
     "output_type": "stream",
     "text": [
      "{\n",
      "    \"founders\": [\n",
      "        \"Elon Musk\",\n",
      "        \"Sam Altman\",\n",
      "        \"Greg Brockman\",\n",
      "        \"Ilya Sutskever\",\n",
      "        \"John Schulman\",\n",
      "        \"Wojciech Zaremba\"\n",
      "    ]\n",
      "}\n",
      "\n"
     ]
    }
   ],
   "source": [
    "import pprint\n",
    "assistant = AssistantAgent(\"assistant\", llm_config=llm_config_json) # use json mode enabled model\n",
    "\n",
    "reply = assistant.generate_reply(\n",
    "    messages=[{\n",
    "        \"content\": \"Who founded OpenAI? Response in JSON only\",\n",
    "        \"role\": \"user\"\n",
    "    }]\n",
    ")\n",
    "\n",
    "print(reply)"
   ]
  }
 ],
 "metadata": {
  "kernelspec": {
   "display_name": "Python 3",
   "language": "python",
   "name": "python3"
  },
  "language_info": {
   "codemirror_mode": {
    "name": "ipython",
    "version": 3
   },
   "file_extension": ".py",
   "mimetype": "text/x-python",
   "name": "python",
   "nbconvert_exporter": "python",
   "pygments_lexer": "ipython3",
   "version": "3.11.9"
  }
 },
 "nbformat": 4,
 "nbformat_minor": 2
}
